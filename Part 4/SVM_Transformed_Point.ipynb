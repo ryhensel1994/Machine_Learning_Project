{
 "cells": [
  {
   "cell_type": "code",
   "execution_count": null,
   "metadata": {},
   "outputs": [],
   "source": []
  },
  {
   "cell_type": "markdown",
   "metadata": {},
   "source": [
    "$c =1$\n",
    "\n",
    "$d=2$\n",
    "\n",
    "Point $= x_1, x_2$\n",
    "\n",
    "Polynomial Kernel $= K(x_1,x_2) = (x_1^t *  x_2 +1)^2$\n",
    "\n",
    "Expanded $= x_1^2, x_2^2 , \\sqrt{2}*x_1*x_2,\\sqrt{2}*x_1, \\sqrt{2}*x_2, 1 $\n",
    "\n",
    "\n",
    "Let $x_1 = 5, x_2=3$\n",
    "\n",
    "Transformed Point $= 25, 9, 21.213, 7.071, 4.243, 1$\n"
   ]
  },
  {
   "cell_type": "markdown",
   "metadata": {},
   "source": []
  }
 ],
 "metadata": {
  "language_info": {
   "name": "python"
  }
 },
 "nbformat": 4,
 "nbformat_minor": 2
}
