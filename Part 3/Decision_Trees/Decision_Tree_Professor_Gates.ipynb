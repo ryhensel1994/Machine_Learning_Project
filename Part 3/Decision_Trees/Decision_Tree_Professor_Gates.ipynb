{
 "cells": [
  {
   "cell_type": "code",
   "execution_count": 11,
   "metadata": {},
   "outputs": [],
   "source": [
    "from sklearn import tree\n",
    "from sklearn.tree import DecisionTreeClassifier\n",
    "import pandas as pd\n",
    "import pydotplus \n",
    "import graphviz  \n",
    "from sklearn.model_selection import train_test_split\n",
    "import seaborn as sns\n",
    "import numpy as np\n",
    "import matplotlib.pyplot as plt\n",
    "from sklearn.metrics import confusion_matrix\n",
    "from sklearn import tree\n",
    "from sklearn.metrics import ConfusionMatrixDisplay\n",
    "\n"
   ]
  },
  {
   "cell_type": "code",
   "execution_count": 12,
   "metadata": {},
   "outputs": [
    {
     "name": "stdout",
     "output_type": "stream",
     "text": [
      "     Label  Cholesterol  Weight  Height  BMI\n",
      "0     Risk          251     267      70   30\n",
      "1   Medium          105     103      62   19\n",
      "2   NoRisk          156     193      72   20\n",
      "3   NoRisk          109     100      63   20\n",
      "4   Medium          198     210      70   25\n",
      "5     Risk          189     189      64   26\n",
      "6     Risk          121     105      65   21\n",
      "7   NoRisk          134     125      60   20\n",
      "8     Risk          250     156      69   29\n",
      "9   NoRisk          118     190      71   19\n",
      "10  Medium          290     300      62   31\n",
      "11  NoRisk          156     119      69   24\n",
      "12  NoRisk          145     112      68   23\n",
      "13  Medium          178     177      68   27\n",
      "14    Risk          175     145      63   26\n"
     ]
    }
   ],
   "source": [
    "## Read in data\n",
    "## Link to the dataset: https://drive.google.com/file/d/1lQ85Ftir5F8gNpI833hC52_8GgcMiGJp/view?usp=sharing\n",
    "\n",
    "#!! YOU will need to change this path to match the path on YOUR computer !!\n",
    "filename = \"C:/Users/ryhen/OneDrive - UCB-O365/Machine Learning/Project/Part 3/Decision_Trees/HeartRisk_JustNums_4D_Labeled.csv\"\n",
    "#Read in the data\n",
    "HeartRiskDF = pd.read_csv(filename)\n",
    "print(HeartRiskDF)\n",
    "\n"
   ]
  },
  {
   "cell_type": "code",
   "execution_count": 13,
   "metadata": {},
   "outputs": [
    {
     "name": "stdout",
     "output_type": "stream",
     "text": [
      "The Training Data is\n",
      "      Label  Cholesterol  Weight  Height  BMI\n",
      "1   Medium          105     103      62   19\n",
      "0     Risk          251     267      70   30\n",
      "4   Medium          198     210      70   25\n",
      "13  Medium          178     177      68   27\n",
      "6     Risk          121     105      65   21\n",
      "10  Medium          290     300      62   31\n",
      "5     Risk          189     189      64   26\n",
      "2   NoRisk          156     193      72   20\n",
      "3   NoRisk          109     100      63   20\n",
      "9   NoRisk          118     190      71   19\n",
      "The Testing Data is\n",
      "      Label  Cholesterol  Weight  Height  BMI\n",
      "11  NoRisk          156     119      69   24\n",
      "7   NoRisk          134     125      60   20\n",
      "8     Risk          250     156      69   29\n",
      "12  NoRisk          145     112      68   23\n",
      "14    Risk          175     145      63   26\n"
     ]
    }
   ],
   "source": [
    "HeartRiskDF_Train, HeartRiskDF_Test=train_test_split(HeartRiskDF,test_size=.30)\n",
    "print(\"The Training Data is\\n\", HeartRiskDF_Train)\n",
    "print(\"The Testing Data is\\n\", HeartRiskDF_Test)"
   ]
  },
  {
   "cell_type": "code",
   "execution_count": 14,
   "metadata": {},
   "outputs": [
    {
     "name": "stdout",
     "output_type": "stream",
     "text": [
      "1     Medium\n",
      "0       Risk\n",
      "4     Medium\n",
      "13    Medium\n",
      "6       Risk\n",
      "10    Medium\n",
      "5       Risk\n",
      "2     NoRisk\n",
      "3     NoRisk\n",
      "9     NoRisk\n",
      "Name: Label, dtype: object\n",
      "    Cholesterol  Weight  Height  BMI\n",
      "1           105     103      62   19\n",
      "0           251     267      70   30\n",
      "4           198     210      70   25\n",
      "13          178     177      68   27\n",
      "6           121     105      65   21\n",
      "10          290     300      62   31\n",
      "5           189     189      64   26\n",
      "2           156     193      72   20\n",
      "3           109     100      63   20\n",
      "9           118     190      71   19\n",
      "11    NoRisk\n",
      "7     NoRisk\n",
      "8       Risk\n",
      "12    NoRisk\n",
      "14      Risk\n",
      "Name: Label, dtype: object\n",
      "    Cholesterol  Weight  Height  BMI\n",
      "11          156     119      69   24\n",
      "7           134     125      60   20\n",
      "8           250     156      69   29\n",
      "12          145     112      68   23\n",
      "14          175     145      63   26\n"
     ]
    }
   ],
   "source": [
    "## Now remove the labels from the data - but keep and name the labels\n",
    "TrainLabel = HeartRiskDF_Train[\"Label\"]\n",
    "print(TrainLabel)\n",
    "## Remove the label from the dataset itself\n",
    "HeartRiskDF_Train = HeartRiskDF_Train.drop([\"Label\"], axis=1)\n",
    "print(HeartRiskDF_Train)\n",
    "\n",
    "TestLabel = HeartRiskDF_Test[\"Label\"]\n",
    "print(TestLabel)\n",
    "## Remove the label from the dataset itself\n",
    "HeartRiskDF_Test = HeartRiskDF_Test.drop([\"Label\"], axis=1)\n",
    "print(HeartRiskDF_Test)\n",
    "\n"
   ]
  },
  {
   "cell_type": "code",
   "execution_count": 15,
   "metadata": {},
   "outputs": [
    {
     "name": "stdout",
     "output_type": "stream",
     "text": [
      "['Cholesterol' 'Weight' 'Height' 'BMI']\n",
      "['Medium' 'NoRisk' 'Risk']\n"
     ]
    }
   ],
   "source": [
    "##Instantiate the decision tree using the defaults.\n",
    "MyDT_Classifier = DecisionTreeClassifier()\n",
    "## Use fit to create the decision tree model\n",
    "MyDT_Classifier = MyDT_Classifier.fit(HeartRiskDF_Train, TrainLabel)\n",
    "\n",
    "FeatureNames=HeartRiskDF_Train.columns.values ## get all the feature/variable names\n",
    "print(FeatureNames)\n",
    "ClassNames=MyDT_Classifier.classes_ ## Get the class names\n",
    "print(ClassNames)\n",
    "\n",
    "\n"
   ]
  },
  {
   "cell_type": "code",
   "execution_count": 16,
   "metadata": {},
   "outputs": [],
   "source": [
    "##Tree Plot Option 1\n",
    "MyPlot=tree.plot_tree(MyDT_Classifier,\n",
    "                   feature_names=FeatureNames,  \n",
    "                   class_names=ClassNames,\n",
    "                   filled=True)\n",
    "\n",
    "## !!!!!!!!!!!!!!!!!!!!!!!!!!!!!!!!!!!!!!!!!\n",
    "## To see the tree, open this file on your computer :)\n",
    "## !!!!!!!!!!!!!!!!!!!!!!!!!!!!!!!!!!!!!!!!!!!!!!!!!!!!!!!!!!!\n",
    "plt.savefig(\"MyTree1.jpg\")\n",
    "plt.close()\n",
    "\n",
    " \n",
    "\n"
   ]
  },
  {
   "cell_type": "code",
   "execution_count": 17,
   "metadata": {},
   "outputs": [
    {
     "ename": "InvocationException",
     "evalue": "GraphViz's executables not found",
     "output_type": "error",
     "traceback": [
      "\u001b[1;31m---------------------------------------------------------------------------\u001b[0m",
      "\u001b[1;31mInvocationException\u001b[0m                       Traceback (most recent call last)",
      "Cell \u001b[1;32mIn[17], line 22\u001b[0m\n\u001b[0;32m     19\u001b[0m DT_graph \u001b[38;5;241m=\u001b[39m pydotplus\u001b[38;5;241m.\u001b[39mgraph_from_dot_data(TREE_Vis)\n\u001b[0;32m     20\u001b[0m \u001b[38;5;66;03m## !!!!  Search for My_DT_tree.pdf on your computer and open it. \u001b[39;00m\n\u001b[0;32m     21\u001b[0m \u001b[38;5;66;03m## It will contain your tree ;)\u001b[39;00m\n\u001b[1;32m---> 22\u001b[0m \u001b[43mDT_graph\u001b[49m\u001b[38;5;241;43m.\u001b[39;49m\u001b[43mwrite_pdf\u001b[49m\u001b[43m(\u001b[49m\u001b[38;5;124;43m\"\u001b[39;49m\u001b[38;5;124;43mMy_DT_tree.pdf\u001b[39;49m\u001b[38;5;124;43m\"\u001b[39;49m\u001b[43m)\u001b[49m\n\u001b[0;32m     23\u001b[0m plt\u001b[38;5;241m.\u001b[39mclose()\n",
      "File \u001b[1;32m~\\AppData\\Local\\Packages\\PythonSoftwareFoundation.Python.3.11_qbz5n2kfra8p0\\LocalCache\\local-packages\\Python311\\site-packages\\pydotplus\\graphviz.py:1810\u001b[0m, in \u001b[0;36mDot.__init__.<locals>.<lambda>\u001b[1;34m(path, f, prog)\u001b[0m\n\u001b[0;32m   1800\u001b[0m     f\u001b[38;5;241m.\u001b[39m\u001b[38;5;18m__doc__\u001b[39m \u001b[38;5;241m=\u001b[39m (\n\u001b[0;32m   1801\u001b[0m \u001b[38;5;250m        \u001b[39m\u001b[38;5;124;03m'''Refer to the docstring accompanying the'''\u001b[39;00m\n\u001b[0;32m   1802\u001b[0m \u001b[38;5;250m        \u001b[39m\u001b[38;5;124;03m''''create' method for more information.'''\u001b[39;00m\n\u001b[0;32m   1803\u001b[0m     )\n\u001b[0;32m   1805\u001b[0m \u001b[38;5;28;01mfor\u001b[39;00m frmt \u001b[38;5;129;01min\u001b[39;00m \u001b[38;5;28mself\u001b[39m\u001b[38;5;241m.\u001b[39mformats \u001b[38;5;241m+\u001b[39m [\u001b[38;5;124m'\u001b[39m\u001b[38;5;124mraw\u001b[39m\u001b[38;5;124m'\u001b[39m]:\n\u001b[0;32m   1806\u001b[0m     \u001b[38;5;28mself\u001b[39m\u001b[38;5;241m.\u001b[39m\u001b[38;5;21m__setattr__\u001b[39m(\n\u001b[0;32m   1807\u001b[0m         \u001b[38;5;124m'\u001b[39m\u001b[38;5;124mwrite_\u001b[39m\u001b[38;5;124m'\u001b[39m \u001b[38;5;241m+\u001b[39m frmt,\n\u001b[0;32m   1808\u001b[0m         \u001b[38;5;28;01mlambda\u001b[39;00m path,\n\u001b[0;32m   1809\u001b[0m         f\u001b[38;5;241m=\u001b[39mfrmt,\n\u001b[1;32m-> 1810\u001b[0m         prog\u001b[38;5;241m=\u001b[39m\u001b[38;5;28mself\u001b[39m\u001b[38;5;241m.\u001b[39mprog: \u001b[38;5;28;43mself\u001b[39;49m\u001b[38;5;241;43m.\u001b[39;49m\u001b[43mwrite\u001b[49m\u001b[43m(\u001b[49m\u001b[43mpath\u001b[49m\u001b[43m,\u001b[49m\u001b[43m \u001b[49m\u001b[38;5;28;43mformat\u001b[39;49m\u001b[38;5;241;43m=\u001b[39;49m\u001b[43mf\u001b[49m\u001b[43m,\u001b[49m\u001b[43m \u001b[49m\u001b[43mprog\u001b[49m\u001b[38;5;241;43m=\u001b[39;49m\u001b[43mprog\u001b[49m\u001b[43m)\u001b[49m\n\u001b[0;32m   1811\u001b[0m     )\n\u001b[0;32m   1813\u001b[0m     f \u001b[38;5;241m=\u001b[39m \u001b[38;5;28mself\u001b[39m\u001b[38;5;241m.\u001b[39m\u001b[38;5;18m__dict__\u001b[39m[\u001b[38;5;124m'\u001b[39m\u001b[38;5;124mwrite_\u001b[39m\u001b[38;5;124m'\u001b[39m \u001b[38;5;241m+\u001b[39m frmt]\n\u001b[0;32m   1814\u001b[0m     f\u001b[38;5;241m.\u001b[39m\u001b[38;5;18m__doc__\u001b[39m \u001b[38;5;241m=\u001b[39m (\n\u001b[0;32m   1815\u001b[0m \u001b[38;5;250m        \u001b[39m\u001b[38;5;124;03m'''Refer to the docstring accompanying the'''\u001b[39;00m\n\u001b[0;32m   1816\u001b[0m \u001b[38;5;250m        \u001b[39m\u001b[38;5;124;03m''''write' method for more information.'''\u001b[39;00m\n\u001b[0;32m   1817\u001b[0m     )\n",
      "File \u001b[1;32m~\\AppData\\Local\\Packages\\PythonSoftwareFoundation.Python.3.11_qbz5n2kfra8p0\\LocalCache\\local-packages\\Python311\\site-packages\\pydotplus\\graphviz.py:1918\u001b[0m, in \u001b[0;36mDot.write\u001b[1;34m(self, path, prog, format)\u001b[0m\n\u001b[0;32m   1915\u001b[0m         fobj\u001b[38;5;241m.\u001b[39mwrite(data)\n\u001b[0;32m   1917\u001b[0m     \u001b[38;5;28;01melse\u001b[39;00m:\n\u001b[1;32m-> 1918\u001b[0m         fobj\u001b[38;5;241m.\u001b[39mwrite(\u001b[38;5;28;43mself\u001b[39;49m\u001b[38;5;241;43m.\u001b[39;49m\u001b[43mcreate\u001b[49m\u001b[43m(\u001b[49m\u001b[43mprog\u001b[49m\u001b[43m,\u001b[49m\u001b[43m \u001b[49m\u001b[38;5;28;43mformat\u001b[39;49m\u001b[43m)\u001b[49m)\n\u001b[0;32m   1919\u001b[0m \u001b[38;5;28;01mfinally\u001b[39;00m:\n\u001b[0;32m   1920\u001b[0m     \u001b[38;5;28;01mif\u001b[39;00m close:\n",
      "File \u001b[1;32m~\\AppData\\Local\\Packages\\PythonSoftwareFoundation.Python.3.11_qbz5n2kfra8p0\\LocalCache\\local-packages\\Python311\\site-packages\\pydotplus\\graphviz.py:1959\u001b[0m, in \u001b[0;36mDot.create\u001b[1;34m(self, prog, format)\u001b[0m\n\u001b[0;32m   1957\u001b[0m     \u001b[38;5;28mself\u001b[39m\u001b[38;5;241m.\u001b[39mprogs \u001b[38;5;241m=\u001b[39m find_graphviz()\n\u001b[0;32m   1958\u001b[0m     \u001b[38;5;28;01mif\u001b[39;00m \u001b[38;5;28mself\u001b[39m\u001b[38;5;241m.\u001b[39mprogs \u001b[38;5;129;01mis\u001b[39;00m \u001b[38;5;28;01mNone\u001b[39;00m:\n\u001b[1;32m-> 1959\u001b[0m         \u001b[38;5;28;01mraise\u001b[39;00m InvocationException(\n\u001b[0;32m   1960\u001b[0m             \u001b[38;5;124m'\u001b[39m\u001b[38;5;124mGraphViz\u001b[39m\u001b[38;5;130;01m\\'\u001b[39;00m\u001b[38;5;124ms executables not found\u001b[39m\u001b[38;5;124m'\u001b[39m)\n\u001b[0;32m   1962\u001b[0m \u001b[38;5;28;01mif\u001b[39;00m prog \u001b[38;5;129;01mnot\u001b[39;00m \u001b[38;5;129;01min\u001b[39;00m \u001b[38;5;28mself\u001b[39m\u001b[38;5;241m.\u001b[39mprogs:\n\u001b[0;32m   1963\u001b[0m     \u001b[38;5;28;01mraise\u001b[39;00m InvocationException(\n\u001b[0;32m   1964\u001b[0m         \u001b[38;5;124m'\u001b[39m\u001b[38;5;124mGraphViz\u001b[39m\u001b[38;5;130;01m\\'\u001b[39;00m\u001b[38;5;124ms executable \u001b[39m\u001b[38;5;124m\"\u001b[39m\u001b[38;5;132;01m%s\u001b[39;00m\u001b[38;5;124m\"\u001b[39m\u001b[38;5;124m not found\u001b[39m\u001b[38;5;124m'\u001b[39m \u001b[38;5;241m%\u001b[39m prog)\n",
      "\u001b[1;31mInvocationException\u001b[0m: GraphViz's executables not found"
     ]
    }
   ],
   "source": [
    "## Visualize the tree ##--------------------------------------\n",
    "\n",
    "## !!!!!!!!!!!!!!!!!\n",
    "## To run this next part, you will need to \n",
    "## conda install python-graphviz\n",
    "## If you cannot get it to work - don't worry about that for now\n",
    "## Comment out the following lines.\n",
    "\n",
    "\n",
    "TREE_Vis = tree.export_graphviz(MyDT_Classifier, \n",
    "                    out_file=None, \n",
    "                    feature_names=HeartRiskDF_Train.columns,  \n",
    "                    class_names=ClassNames,  \n",
    "                    filled=True, rounded=True,  \n",
    "                    special_characters=True)  \n",
    "\n",
    "graph = graphviz.Source(TREE_Vis)  \n",
    "#Export to pdf\n",
    "DT_graph = pydotplus.graph_from_dot_data(TREE_Vis)\n",
    "## !!!!  Search for My_DT_tree.pdf on your computer and open it. \n",
    "## It will contain your tree ;)\n",
    "DT_graph.write_pdf(\"My_DT_tree.pdf\")\n",
    "plt.close()\n",
    "\n"
   ]
  },
  {
   "cell_type": "code",
   "execution_count": 18,
   "metadata": {},
   "outputs": [
    {
     "name": "stdout",
     "output_type": "stream",
     "text": [
      "['Risk' 'NoRisk' 'Risk' 'Risk' 'Medium']\n",
      "11    NoRisk\n",
      "7     NoRisk\n",
      "8       Risk\n",
      "12    NoRisk\n",
      "14      Risk\n",
      "Name: Label, dtype: object\n",
      "[[0 0 0]\n",
      " [0 1 2]\n",
      " [1 0 1]]\n"
     ]
    },
    {
     "ename": "TypeError",
     "evalue": "ConfusionMatrixDisplay.__init__() takes 2 positional arguments but 3 were given",
     "output_type": "error",
     "traceback": [
      "\u001b[1;31m---------------------------------------------------------------------------\u001b[0m",
      "\u001b[1;31mTypeError\u001b[0m                                 Traceback (most recent call last)",
      "Cell \u001b[1;32mIn[18], line 24\u001b[0m\n\u001b[0;32m     21\u001b[0m plt\u001b[38;5;241m.\u001b[39mclose()\n\u001b[0;32m     23\u001b[0m \u001b[38;5;66;03m## Confusion Matrix Plot Option 2\u001b[39;00m\n\u001b[1;32m---> 24\u001b[0m CM_disp\u001b[38;5;241m=\u001b[39m\u001b[43mConfusionMatrixDisplay\u001b[49m\u001b[43m(\u001b[49m\u001b[43mMy_Conf_Mat\u001b[49m\u001b[43m,\u001b[49m\u001b[43mClassNames\u001b[49m\u001b[43m)\u001b[49m\n\u001b[0;32m     25\u001b[0m CM_disp\u001b[38;5;241m.\u001b[39mplot()\n\u001b[0;32m     26\u001b[0m plt\u001b[38;5;241m.\u001b[39msavefig(\u001b[38;5;124m\"\u001b[39m\u001b[38;5;124mCM.jpg\u001b[39m\u001b[38;5;124m\"\u001b[39m)\n",
      "\u001b[1;31mTypeError\u001b[0m: ConfusionMatrixDisplay.__init__() takes 2 positional arguments but 3 were given"
     ]
    }
   ],
   "source": [
    "## Use the Tree to make predictions\n",
    "Prediction=MyDT_Classifier.predict(HeartRiskDF_Test)\n",
    "print(Prediction)\n",
    "\n",
    "Actual_Labels=TestLabel\n",
    "print(Actual_Labels)\n",
    "Predicted_Labels=Prediction\n",
    "\n",
    "##Create the Basic Confusion Matrix\n",
    "My_Conf_Mat = confusion_matrix(Actual_Labels, Predicted_Labels)\n",
    "print(My_Conf_Mat)\n",
    "\n",
    "## Confusion Plot Option 1\n",
    "##Create the fancy CM using Seaborn\n",
    "sns.heatmap(My_Conf_Mat, annot=True,cmap='Blues',xticklabels=ClassNames, \n",
    "            yticklabels=ClassNames, cbar=False)\n",
    "plt.title(\"Confusion Matrix For Heart Risk Data\",fontsize=20)\n",
    "plt.xlabel(\"Actual\", fontsize=15)\n",
    "plt.ylabel(\"Predicted\", fontsize=15)\n",
    "plt.savefig(\"seaborn_plot.jpg\", dpi=300)\n",
    "plt.close()\n",
    "\n",
    "## Confusion Matrix Plot Option 2\n",
    "CM_disp=ConfusionMatrixDisplay(My_Conf_Mat,ClassNames)\n",
    "CM_disp.plot()\n",
    "plt.savefig(\"CM.jpg\")\n",
    "plt.close()"
   ]
  }
 ],
 "metadata": {
  "kernelspec": {
   "display_name": "Python 3",
   "language": "python",
   "name": "python3"
  },
  "language_info": {
   "codemirror_mode": {
    "name": "ipython",
    "version": 3
   },
   "file_extension": ".py",
   "mimetype": "text/x-python",
   "name": "python",
   "nbconvert_exporter": "python",
   "pygments_lexer": "ipython3",
   "version": "3.11.9"
  }
 },
 "nbformat": 4,
 "nbformat_minor": 2
}
